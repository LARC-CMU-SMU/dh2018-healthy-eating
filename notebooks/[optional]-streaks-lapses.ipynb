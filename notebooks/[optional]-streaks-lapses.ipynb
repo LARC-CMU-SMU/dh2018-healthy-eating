{
 "cells": [
  {
   "cell_type": "markdown",
   "metadata": {},
   "source": [
    "# [Optional] Analyzing Streaks and Lapses\n",
    "\n",
    "This notebook computes streaks and lapses in the users' logging behavior.\n",
    "\n",
    "It is optional. Run this notebook if lapses.csv and lapse_details.csv are missing.\n",
    "\n",
    "It may take up to 500 seconds to run."
   ]
  },
  {
   "cell_type": "markdown",
   "metadata": {},
   "source": [
    "## 1. Loading data"
   ]
  },
  {
   "cell_type": "code",
   "execution_count": 9,
   "metadata": {},
   "outputs": [],
   "source": [
    "import pandas as pd\n",
    "\n",
    "diary_days = pd.read_csv(\"../data/daily_calories.csv\")\n",
    "diary_days.reset_index(inplace=True)\n",
    "diary_days[\"username\"] = diary_days[\"username\"].astype(str)\n",
    "diary_days[\"date\"] = pd.to_datetime(diary_days[\"date\"])\n",
    "diary_days[\"calories\"] = pd.to_numeric(diary_days[\"calories\"])"
   ]
  },
  {
   "cell_type": "markdown",
   "metadata": {},
   "source": [
    "## 2. Defining function to find streaks and lapses"
   ]
  },
  {
   "cell_type": "code",
   "execution_count": 10,
   "metadata": {
    "collapsed": true
   },
   "outputs": [],
   "source": [
    "import pandas as pd\n",
    "import numpy as np\n",
    "import json\n",
    "\n",
    "def find_lapses(df):\n",
    "    streaks = []\n",
    "    lapses = []\n",
    "    streak = []\n",
    "    lapse = []\n",
    "\n",
    "    for i in df.iterrows():\n",
    "        if not pd.isnull(i[1].calories):\n",
    "            if len(lapse) > 0:\n",
    "                lapses.append(lapse)\n",
    "            streak.append(dt.strftime(i[1].date, \"%Y-%m-%d\"))\n",
    "            lapse = []\n",
    "        else:\n",
    "            if len(streak) > 0:\n",
    "                streaks.append(streak)\n",
    "            lapse.append(dt.strftime(i[1].date, \"%Y-%m-%d\"))\n",
    "            streak = []\n",
    "\n",
    "    streaks.append(streak) # The last streak\n",
    "\n",
    "    return (streaks, lapses)"
   ]
  },
  {
   "cell_type": "markdown",
   "metadata": {},
   "source": [
    "## 3. Generating continuous date range"
   ]
  },
  {
   "cell_type": "code",
   "execution_count": 11,
   "metadata": {
    "collapsed": true
   },
   "outputs": [],
   "source": [
    "from datetime import datetime as dt, timedelta\n",
    "import pandas as pd\n",
    "\n",
    "start = diary_days.date.min()\n",
    "end = diary_days.date.max()\n",
    "date_list = [start + timedelta(days=x) for x in range(0, (end-start).days+1)]\n",
    "all_dates = pd.DataFrame(date_list, columns=[\"date\"])\n",
    "all_dates[\"date\"] = pd.to_datetime(all_dates[\"date\"])"
   ]
  },
  {
   "cell_type": "markdown",
   "metadata": {},
   "source": [
    "## 4. Find streaks and lapses for all users"
   ]
  },
  {
   "cell_type": "code",
   "execution_count": 12,
   "metadata": {},
   "outputs": [
    {
     "name": "stdout",
     "output_type": "stream",
     "text": [
      "Done in 555.974705935\n"
     ]
    }
   ],
   "source": [
    "import pandas as pd\n",
    "import time\n",
    "\n",
    "uns = diary_days.username.unique()\n",
    "data = []\n",
    "data2 = []\n",
    "t0 = time.time()\n",
    "\n",
    "for u in uns:\n",
    "    udates = diary_days[diary_days.username==u]\n",
    "    df = pd.merge(all_dates[(all_dates.date>=udates.date.min()) & (all_dates.date<=udates.date.max())], udates, how=\"outer\", on=\"date\")\n",
    "    data.append({\"username\": u, \"num_lapsed_days\":len(df[df.username.isnull()])})\n",
    "    streaks, lapses = find_lapses(df)\n",
    "    data2.append({\"username\": u, \"streaks\": json.dumps(streaks), \"lapses\": json.dumps(lapses)})\n",
    "    \n",
    "lapses = pd.DataFrame.from_dict(data)\n",
    "lapses.set_index(\"username\", inplace=True)\n",
    "lapses.to_csv(\"../data/lapses.csv\")\n",
    "lapse_details = pd.DataFrame.from_dict(data2)\n",
    "lapse_details.set_index(\"username\", inplace=True)\n",
    "lapse_details.to_csv(\"../data/lapse_details.csv\")\n",
    "t1 = time.time()\n",
    "print \"Done in %s\" % (t1-t0)"
   ]
  }
 ],
 "metadata": {
  "kernelspec": {
   "display_name": "Python 2",
   "language": "python",
   "name": "python2"
  },
  "language_info": {
   "codemirror_mode": {
    "name": "ipython",
    "version": 2
   },
   "file_extension": ".py",
   "mimetype": "text/x-python",
   "name": "python",
   "nbconvert_exporter": "python",
   "pygments_lexer": "ipython2",
   "version": "2.7.15"
  }
 },
 "nbformat": 4,
 "nbformat_minor": 2
}
